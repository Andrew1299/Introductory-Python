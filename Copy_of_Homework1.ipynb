{
  "nbformat": 4,
  "nbformat_minor": 0,
  "metadata": {
    "colab": {
      "name": "Copy of Homework1.ipynb",
      "provenance": [],
      "collapsed_sections": []
    },
    "kernelspec": {
      "name": "python3",
      "display_name": "Python 3"
    }
  },
  "cells": [
    {
      "cell_type": "markdown",
      "metadata": {
        "id": "hm8RAKinXsIP"
      },
      "source": [
        "## **Homework 1**\n",
        "\n",
        "### Create a copy of the notebook to start answering the questions. Name your notebook in the format HW1_lastname_firstname.ipynb to facilitate the grading process. \n",
        "\n",
        "### Answer all the questions, test your code to ensure there are no errors and the results are as expected. Once you have answered all the questions, save the final copy, then go to File-> click on Download.ipynb. Once the local copy has been downloaded, submit your file on Blackboard under the corresponding assignment section. Also provide us a link to your notebook during submission. \n",
        "\n",
        "### **The due date of this homework is 02/05/2021 (Friday).**\n",
        "\n",
        "### Please ensure you follow all the steps mentioned in the homework.\n",
        "\n",
        "### All the questions have a sample input and output to help you understand the question. Please note that your programs will be tested for other sets of inputs and outputs along with the sample provided. So test your code for other inputs.\n",
        "\n",
        "### You can submit your solutions any number of times until the deadline.\n"
      ]
    },
    {
      "cell_type": "markdown",
      "metadata": {
        "id": "uacFrEaZfcfq"
      },
      "source": [
        "##### Q1. Write a program that prompts the user to enter a password then prints the length of the password.\n",
        "\n",
        "```\n",
        "Enter your password: hello\n",
        "Your password is 5 long.\n",
        "```\n",
        "\n",
        "\n"
      ]
    },
    {
      "cell_type": "code",
      "metadata": {
        "id": "avPyES14ftCt"
      },
      "source": [
        "# Type solution here\n",
        "#get password\n",
        "password = input(\"Enter your password:\")\n",
        "#calculate length\n",
        "length = len(password)\n",
        "#output\n",
        "print(\"your password is \", length, \" long.\")"
      ],
      "execution_count": null,
      "outputs": []
    },
    {
      "cell_type": "markdown",
      "metadata": {
        "id": "ekh-kABuItli"
      },
      "source": [
        ""
      ]
    },
    {
      "cell_type": "markdown",
      "metadata": {
        "id": "K1yko-xUItU3"
      },
      "source": [
        ""
      ]
    },
    {
      "cell_type": "markdown",
      "metadata": {
        "id": "behD0j_Of2TW"
      },
      "source": [
        "##### Q2. Write a program that prompts the user to enter their full name then prints the number of characters in their name (do not count spaces).\n",
        "\n",
        "```\n",
        "What is your name? Amulya Katti\n",
        "Amulya Katti your name has 11 characters.\n",
        "```"
      ]
    },
    {
      "cell_type": "code",
      "metadata": {
        "id": "XSdIRjwlhSlu",
        "colab": {
          "base_uri": "https://localhost:8080/"
        },
        "outputId": "cd98a0c1-56a3-4835-d692-a6313915449c"
      },
      "source": [
        "# Type solution here\n",
        "#get name\n",
        "name = input(\"What is your name?\")\n",
        "#subtract spaces\n",
        "length = len(name)-name.count(' ')\n",
        "#display\n",
        "print(name, \" your name has \", length, \" characters.\")"
      ],
      "execution_count": 22,
      "outputs": [
        {
          "output_type": "stream",
          "text": [
            "What is your name?asdnrw\n",
            "asdnrw  your name has  6  characters.\n"
          ],
          "name": "stdout"
        }
      ]
    },
    {
      "cell_type": "markdown",
      "metadata": {
        "id": "5KHOWF6FhVHV"
      },
      "source": [
        "##### Q3. Write a program that prompts the user to enter a month (as a number), then prints the name of the month and the number of days in that month. Ensure that the user inputs a valid month and handle any error cases.\n",
        "\n",
        "```\n",
        "Enter the month number: 9\n",
        "September has 30 days\n",
        "```"
      ]
    },
    {
      "cell_type": "code",
      "metadata": {
        "id": "KhS-SAEThyTG",
        "colab": {
          "base_uri": "https://localhost:8080/"
        },
        "outputId": "1ea0f3c3-24de-49e6-f466-07d3c0c058ab"
      },
      "source": [
        "# Type solution here\n",
        "#create a dictionary for month and days\n",
        "monthsNumbers = {1: \"January\", 2: \"February\", 3: \"March\", 4: \"April\", 5: \"May\", 6: \"June\", 7: \"July\", 8: \"August\", 9: \"September\", 10: \"October\", \n",
        "                 11: \"November\", 12: \"December\"}\n",
        "monthsDays = {\"January\": 31, \"February\" : 29, \"March\": 31, \"April\": 30, \"May\": 31, \"June\": 30,\n",
        "            \"July\": 31, \"August\": 31, \"September\": 30, \"October\": 31, \"November\": 30,\n",
        "            \"December\": 31}\n",
        "#get user input\n",
        "num= int(input(\"Enter the month number\"))\n",
        "#get the results\n",
        "month = (monthsNumbers[num])\n",
        "days = (monthsDays[month])\n",
        "#print results\n",
        "print(month, \" has \", days, \" days.\")\n"
      ],
      "execution_count": 21,
      "outputs": [
        {
          "output_type": "stream",
          "text": [
            "Enter the month number2\n",
            "February  has  29  days.\n"
          ],
          "name": "stdout"
        }
      ]
    },
    {
      "cell_type": "markdown",
      "metadata": {
        "id": "O7lnAdGlh6Xa"
      },
      "source": [
        "##### Q4. Write a program that prompts the user to enter a loan amount, annual interest rate, and number of years  for a car loan. Then calculate and print the monthly payment amount.\n",
        "\n",
        "Note:\n",
        "```\n",
        "PMT= [PV*i*((1+i)^n)]/[((1+i)^n)-1]\n",
        "```\n",
        "PMT is the monthly payment\n",
        "\n",
        "PV is the loan amount\n",
        "\n",
        "i is the interest rate per month in decimal form (interest rate percentage divided by 12)\n",
        "\n",
        "n is the number of months (term of the loan in months)\n",
        "\n",
        "```\n",
        "Loan Amount: 30000.00\n",
        "Annual Interest Rate: 4.00\n",
        "Years: 5\n",
        "Your monthly payment is: $552.50\n",
        "```"
      ]
    },
    {
      "cell_type": "code",
      "metadata": {
        "id": "p4B5JH5GiTs9",
        "colab": {
          "base_uri": "https://localhost:8080/"
        },
        "outputId": "c1f4e057-fcdc-4aa5-d5b4-330594f85251"
      },
      "source": [
        "# Type solution here\n",
        "pv = float(input(\"enter a loan amount:\"))\n",
        "i = (float((input(\"what is your annual interest rate:\")))/12)*0.01\n",
        "n = (float((input(\"How many years is your loan?\")))*12)\n",
        "PMT = ((pv*i*((1+i)**n))/(((1+i)**n)-1))\n",
        "print(\"Your monthly payment is: \", PMT)"
      ],
      "execution_count": 20,
      "outputs": [
        {
          "output_type": "stream",
          "text": [
            "enter a loan amount:30000\n",
            "what is your annual interest rate:4\n",
            "How many years is your loan?5\n",
            "Your monthly payment is:  552.4956616579791\n"
          ],
          "name": "stdout"
        }
      ]
    },
    {
      "cell_type": "markdown",
      "metadata": {
        "id": "SjiolJKgiWV-"
      },
      "source": [
        "##### Q5. Write a program to that prompts the user to enter a string. Then check whether or not the string is a palindrome.\n",
        "\n",
        "```\n",
        "Enter a string: Madam\n",
        "Madam, is a palindrome!\n",
        "```"
      ]
    },
    {
      "cell_type": "code",
      "metadata": {
        "id": "F5_M934Ri0es",
        "colab": {
          "base_uri": "https://localhost:8080/"
        },
        "outputId": "8e0cf214-45d6-4b4b-aee7-cd3d92817129"
      },
      "source": [
        "# Type solution here\n",
        "#Get input\n",
        "string = input(\"Enter a string:\")\n",
        "#detect if it is a palindrome\n",
        "if string == string[::-1]:\n",
        "  print(string, \" is a palindrome!\")\n",
        "else:\n",
        "  print(\"Not a palindrome\")\n"
      ],
      "execution_count": 19,
      "outputs": [
        {
          "output_type": "stream",
          "text": [
            "Enter a string:gug\n",
            "gug  is a palindrome!\n"
          ],
          "name": "stdout"
        }
      ]
    },
    {
      "cell_type": "markdown",
      "metadata": {
        "id": "BLBD6n9vkJEu"
      },
      "source": [
        "##### Q6. Write a program to compute and print all possible combinations of change for \\$1. Denominations to be considered – quarter, dime, nickel, penny.\n",
        "\n",
        "Hint: Use nested loops (loops within loops for the various denominations of coins)\n",
        "\n",
        "```\n",
        "Change for $1:\n",
        "0 quarters, 0 dimes, 0 nickels, 100 pennies\n",
        "…\n",
        "4 quarters, 0 dimes, 0 nickels, 0 pennies\n",
        "```"
      ]
    },
    {
      "cell_type": "code",
      "metadata": {
        "id": "kAQsTjwDkZZ5"
      },
      "source": [
        "# Type solution here\n",
        "# count quarter combos\n",
        "for q in range(5):\n",
        "  #count dimes\n",
        "  for d in range(11):\n",
        "    #count nickels\n",
        "    for n in range (21):\n",
        "      #count pennies\n",
        "      for p in range (101):\n",
        "        #Must add up to 100\n",
        "        if (q * 25) + (d*10) + (n*5) + (p*1) == 100:\n",
        "          print(repr(q), \" quarters, \", repr(d), \"dimes\", repr(n), \"nickels\", repr(p), \"pennies\")\n",
        "\n",
        "\n"
      ],
      "execution_count": null,
      "outputs": []
    },
    {
      "cell_type": "markdown",
      "metadata": {
        "id": "rUPDjYiIkbgs"
      },
      "source": [
        "##### Q7. Ask the user to enter two positive integers between 1 and 100. Read those integers. Then output a multiplication table of the first number times the second number. \n",
        "\n",
        "Note: You have to ensure the entered numbers are between 1 and 100 only.\n",
        "\n",
        "```\n",
        "Please enter an integer: 5\n",
        "Please enter another integer: 20\n",
        "5 x 1 = 5\n",
        "5 x 2 = 10\n",
        "5 x 3 = 15\n",
        "…\n",
        "5 x 20 = 100\n",
        "```"
      ]
    },
    {
      "cell_type": "code",
      "metadata": {
        "id": "Qg0Orv1klHzA",
        "colab": {
          "base_uri": "https://localhost:8080/"
        },
        "outputId": "f79cf966-dbb8-4b74-805c-38e983e3bdb9"
      },
      "source": [
        "# Type solution here\n",
        "#Get first number\n",
        "#Ensure between 1 or100\n",
        "number1= int(input(\"Enter an integer:\"))\n",
        "while True:\n",
        "  if number1 < 1 or number1 > 100:\n",
        "    print(\"Must be between 1 and 100\")\n",
        "    number1 = int(input(\"Enter an integer:\"))\n",
        "  else:\n",
        "    break\n",
        "#get second number\n",
        "#Ensure between 1 or 100\n",
        "number2= int(input(\"Enter another integer\"))\n",
        "while True:\n",
        "  if number2 < 1 or number2 > 100:\n",
        "    print(\"Must be between 1 and 100\")\n",
        "    number2 = int(input(\"Enter an integer:\"))\n",
        "  else:\n",
        "    break\n",
        "#Calculate product\n",
        "for n in range(number2 + 1):\n",
        "  product = number1 * n\n",
        "  print(number1, \"*\", n, \"=\", product)"
      ],
      "execution_count": 16,
      "outputs": [
        {
          "output_type": "stream",
          "text": [
            "Enter an integer:8\n",
            "Enter another integer9\n",
            "8 * 0 = 0\n",
            "8 * 1 = 8\n",
            "8 * 2 = 16\n",
            "8 * 3 = 24\n",
            "8 * 4 = 32\n",
            "8 * 5 = 40\n",
            "8 * 6 = 48\n",
            "8 * 7 = 56\n",
            "8 * 8 = 64\n",
            "8 * 9 = 72\n"
          ],
          "name": "stdout"
        }
      ]
    },
    {
      "cell_type": "markdown",
      "metadata": {
        "id": "SbnbPUPTlLD9"
      },
      "source": [
        "##### Q8. Write a program to ask the user to enter a password. Then check to see if it is a valid password based on these requirements -\n",
        "\n",
        "Must be at least 8 characters long\n",
        "\n",
        "Must contain both uppercase and lowercase letters\n",
        "\n",
        "Must contain at least one number between 0-9\n",
        "\n",
        "Must contain a special character -!,@,#,$\n",
        "\n",
        "If the password is not valid, ask the user to re-enter. This should continue until the user enters a valid password. After a valid password is entered, print Access Granted!\n",
        "\n",
        "```\n",
        "Please enter a password. Follow these requirements - \n",
        "a. Must be at least 8 characters long\n",
        "b. Must contain both uppercase and lowercase letters\n",
        "c. Must contain at least one number between 0-9\n",
        "d. Must contain a special character -!,@,#,$\n",
        "Password: HelloWorld1\n",
        "Invalid password. Try again!\n",
        "Password: Hello@World1\n",
        "Access Granted!\n",
        "```\n"
      ]
    },
    {
      "cell_type": "code",
      "metadata": {
        "id": "OXmZ177Rl-RV"
      },
      "source": [
        "# Type solution here\n",
        "password = input(\"Enter a password:\")\n",
        "numbers = [0, 1, 2, 3, 4, 5, 6, 7, 8, 9]\n",
        "specialCharacters = [\"-!\", \"@\", \"#\", \"$\"]\n",
        "# Function to detect if there is at least one number\n",
        "def numberDetect(x):\n",
        "    return any(i.isdigit() for i in x)\n",
        "#loop until all requirements are met\n",
        "while True:\n",
        "  if (len(password) < 8):\n",
        "    print(\"password must be more than 8 characters long\") \n",
        "    password = input(\"Enter a password:\")\n",
        "  if password == password.lower() or password == password.upper():\n",
        "    print(\"password must contain at least one upper and lowercase letter\")\n",
        "    password = input(\"Enter a password:\")\n",
        "  if (numberDetect(password))==False:\n",
        "    print(\"Password must contain a number\")\n",
        "    password = input(\"Enter a password:\")\n",
        "  if not any (i in specialCharacters for i in password):\n",
        "    print(\"Password must contain a special character\")\n",
        "    password = input(\"Enter a password:\")\n",
        "#access grant\n",
        "  else:\n",
        "    print(\"Access granted\")\n",
        "    break"
      ],
      "execution_count": null,
      "outputs": []
    },
    {
      "cell_type": "markdown",
      "metadata": {
        "id": "-0sdutTDnTKA"
      },
      "source": [
        "##### Q9. Given the score sheet of participants in a competition, you are required to find the runner-up score. You are given scores in a list. Find the score of the runner-up.\n",
        "\n",
        "```\n",
        "list1 - [2, 3, 6, 6, 5]\n",
        "runner_up - 5\n",
        "\n",
        "list2 - [1, 7, 5, 3, 10, 4, 5, 5, 6, 11]\n",
        "runner_up - 10\n",
        "```"
      ]
    },
    {
      "cell_type": "code",
      "metadata": {
        "id": "12YP9OaqpGRK",
        "colab": {
          "base_uri": "https://localhost:8080/"
        },
        "outputId": "bd55b997-a075-4261-95e5-c26fdf7debd2"
      },
      "source": [
        "# Type solution here\n",
        "list1 = [2, 3, 6, 6, 5]\n",
        "list2 = [1, 7, 5, 3, 10, 4, 5, 5, 6, 11]\n",
        "\n",
        "#remove duplicates and make a new list\n",
        "listA = []\n",
        "for i in list1:\n",
        "  if i not in listA:\n",
        "    listA.append(i)\n",
        "\n",
        "listB = []\n",
        "for x in list2:\n",
        "  if x not in listB:\n",
        "    listB.append(x)\n",
        "#sort in ascending order\n",
        "listA.sort()\n",
        "listB.sort()\n",
        "print(listA)\n",
        "print(listB)\n",
        "#find runnerups using indexes\n",
        "runnerUpIndexA=(len(listA)-2)\n",
        "print(\"Runner up-\", (listA[runnerUpIndexA]))\n",
        "\n",
        "runnerUpIndexB = (len(listB)-2)\n",
        "print(\"Runner up-\", (listB[runnerUpIndexB]))"
      ],
      "execution_count": 26,
      "outputs": [
        {
          "output_type": "stream",
          "text": [
            "[2, 3, 5, 6]\n",
            "[1, 3, 4, 5, 6, 7, 10, 11]\n",
            "Runner up- 5\n",
            "Runner up- 10\n"
          ],
          "name": "stdout"
        }
      ]
    }
  ]
}